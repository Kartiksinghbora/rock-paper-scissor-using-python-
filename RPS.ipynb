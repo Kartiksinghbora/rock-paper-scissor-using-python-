{
 "cells": [
  {
   "cell_type": "code",
   "execution_count": 65,
   "id": "16f57bba-9c54-4cc9-8b57-263125d91a87",
   "metadata": {},
   "outputs": [
    {
     "name": "stdin",
     "output_type": "stream",
     "text": [
      "enter your choice  or type exit to leave exit\n"
     ]
    },
    {
     "name": "stdout",
     "output_type": "stream",
     "text": [
      "\n",
      "\n",
      "game over\n",
      "final score - user_score  0 \n",
      "              computer_score  0\n"
     ]
    }
   ],
   "source": [
    "import random\n",
    "\n",
    "computer=[\"rock\",\"paper\",\"scissor\"]\n",
    "total=0\n",
    "c_score=0\n",
    "u_score=0\n",
    "\n",
    "while True:\n",
    "    a=random.choice(computer)\n",
    "    ans=input(\"enter your choice  or type exit to leave\").lower()\n",
    "    \n",
    "    if(ans==\"exit\"):\n",
    "        print(\"\\n\\ngame over\")\n",
    "        print(\"final score - user_score \",u_score,\"\\n              computer_score \",c_score)\n",
    "        break\n",
    "        \n",
    "    if ans not in computer:\n",
    "        print(\"invalid please try again\")\n",
    "    else:\n",
    "        print(\"computer choice is\",a)\n",
    "        if(a==ans):\n",
    "            print(\"draw\")\n",
    "    \n",
    "        elif(a==\"scissor\" and ans==\"rock\") or (a==\"paper\" and ans==\"scissor\") or(a==\"rock\" and ans==\"paper\"):\n",
    "            print(\"user win\")\n",
    "            u_score +=1\n",
    "            print(u_score)\n",
    "        \n",
    "        else:\n",
    "            print(\"computer win\")\n",
    "            c_score +=1\n",
    "            print(c_score)\n",
    "\n",
    "\n",
    "    \n"
   ]
  },
  {
   "cell_type": "code",
   "execution_count": null,
   "id": "48d83854-ee8d-4343-a1ac-58c4f78ba6f1",
   "metadata": {},
   "outputs": [],
   "source": []
  },
  {
   "cell_type": "code",
   "execution_count": null,
   "id": "4c0365c2-5a53-41da-bb80-40c25f75efe4",
   "metadata": {},
   "outputs": [],
   "source": []
  }
 ],
 "metadata": {
  "kernelspec": {
   "display_name": "Python 3 (ipykernel)",
   "language": "python",
   "name": "python3"
  },
  "language_info": {
   "codemirror_mode": {
    "name": "ipython",
    "version": 3
   },
   "file_extension": ".py",
   "mimetype": "text/x-python",
   "name": "python",
   "nbconvert_exporter": "python",
   "pygments_lexer": "ipython3",
   "version": "3.12.3"
  }
 },
 "nbformat": 4,
 "nbformat_minor": 5
}
